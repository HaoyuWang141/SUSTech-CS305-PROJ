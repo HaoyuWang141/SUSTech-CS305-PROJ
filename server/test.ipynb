{
 "cells": [
  {
   "cell_type": "code",
   "execution_count": 13,
   "metadata": {},
   "outputs": [
    {
     "name": "stdout",
     "output_type": "stream",
     "text": [
      "time.struct_time(tm_year=2023, tm_mon=11, tm_mday=24, tm_hour=15, tm_min=48, tm_sec=59, tm_wday=4, tm_yday=328, tm_isdst=0)\n",
      "Fri, 24 Nov 2023 15:48:59 UTC+8\n"
     ]
    }
   ],
   "source": [
    "import time\n",
    "\n",
    "timestamp = time.time()  # 示例时间戳\n",
    "\n",
    "time_tuple = time.localtime(timestamp)  # 将时间戳转换为本地时间元组\n",
    "print(time_tuple)\n",
    "date_str = time.strftime(\"%a, %d %b %Y %H:%M:%S UTC+8\", time_tuple)\n",
    "print(date_str)"
   ]
  },
  {
   "cell_type": "code",
   "execution_count": 31,
   "metadata": {},
   "outputs": [
    {
     "ename": "FileExistsError",
     "evalue": "f:/MyCourse(5 delayed 1)/cn/project/src/data/test already exists.",
     "output_type": "error",
     "traceback": [
      "\u001b[1;31m---------------------------------------------------------------------------\u001b[0m",
      "\u001b[1;31mFileExistsError\u001b[0m                           Traceback (most recent call last)",
      "\u001b[1;32mf:\\MyCourse(5 delayed 1)\\cn\\project\\src\\test.ipynb 单元格 2\u001b[0m line \u001b[0;36m2\n\u001b[0;32m     <a href='vscode-notebook-cell:/f%3A/MyCourse%285%20delayed%201%29/cn/project/src/test.ipynb#W1sZmlsZQ%3D%3D?line=15'>16</a>\u001b[0m     \u001b[39mexcept\u001b[39;00m \u001b[39mIOError\u001b[39;00m \u001b[39mas\u001b[39;00m e:\n\u001b[0;32m     <a href='vscode-notebook-cell:/f%3A/MyCourse%285%20delayed%201%29/cn/project/src/test.ipynb#W1sZmlsZQ%3D%3D?line=16'>17</a>\u001b[0m         \u001b[39mraise\u001b[39;00m e\n\u001b[1;32m---> <a href='vscode-notebook-cell:/f%3A/MyCourse%285%20delayed%201%29/cn/project/src/test.ipynb#W1sZmlsZQ%3D%3D?line=19'>20</a>\u001b[0m save_file(\u001b[39m\"\u001b[39;49m\u001b[39mdata/test\u001b[39;49m\u001b[39m\"\u001b[39;49m, \u001b[39mb\u001b[39;49m\u001b[39m\"\u001b[39;49m\u001b[39mhello world\u001b[39;49m\u001b[39m\"\u001b[39;49m)\n",
      "\u001b[1;32mf:\\MyCourse(5 delayed 1)\\cn\\project\\src\\test.ipynb 单元格 2\u001b[0m line \u001b[0;36m1\n\u001b[0;32m      <a href='vscode-notebook-cell:/f%3A/MyCourse%285%20delayed%201%29/cn/project/src/test.ipynb#W1sZmlsZQ%3D%3D?line=7'>8</a>\u001b[0m directory \u001b[39m=\u001b[39m os\u001b[39m.\u001b[39mpath\u001b[39m.\u001b[39mdirname(filepath)\n\u001b[0;32m      <a href='vscode-notebook-cell:/f%3A/MyCourse%285%20delayed%201%29/cn/project/src/test.ipynb#W1sZmlsZQ%3D%3D?line=8'>9</a>\u001b[0m \u001b[39mif\u001b[39;00m os\u001b[39m.\u001b[39mpath\u001b[39m.\u001b[39mexists(filepath):\n\u001b[1;32m---> <a href='vscode-notebook-cell:/f%3A/MyCourse%285%20delayed%201%29/cn/project/src/test.ipynb#W1sZmlsZQ%3D%3D?line=9'>10</a>\u001b[0m     \u001b[39mraise\u001b[39;00m \u001b[39mFileExistsError\u001b[39;00m(\u001b[39mf\u001b[39m\u001b[39m\"\u001b[39m\u001b[39m{\u001b[39;00mfilepath\u001b[39m}\u001b[39;00m\u001b[39m already exists.\u001b[39m\u001b[39m\"\u001b[39m)\n\u001b[0;32m     <a href='vscode-notebook-cell:/f%3A/MyCourse%285%20delayed%201%29/cn/project/src/test.ipynb#W1sZmlsZQ%3D%3D?line=10'>11</a>\u001b[0m \u001b[39mif\u001b[39;00m \u001b[39mnot\u001b[39;00m os\u001b[39m.\u001b[39mpath\u001b[39m.\u001b[39mexists(directory):\n\u001b[0;32m     <a href='vscode-notebook-cell:/f%3A/MyCourse%285%20delayed%201%29/cn/project/src/test.ipynb#W1sZmlsZQ%3D%3D?line=11'>12</a>\u001b[0m     os\u001b[39m.\u001b[39mmakedirs(directory, exist_ok\u001b[39m=\u001b[39m\u001b[39mTrue\u001b[39;00m)\n",
      "\u001b[1;31mFileExistsError\u001b[0m: f:/MyCourse(5 delayed 1)/cn/project/src/data/test already exists."
     ]
    }
   ],
   "source": [
    "import os\n",
    "\n",
    "root = os.getcwd()\n",
    "\n",
    "\n",
    "def save_file(path, content):\n",
    "    filepath = os.path.join(root, path.lstrip(\"/\")).replace(\"\\\\\", \"/\")\n",
    "    directory = os.path.dirname(filepath)\n",
    "    if os.path.exists(filepath):\n",
    "        raise FileExistsError(f\"{filepath} already exists.\")\n",
    "    if not os.path.exists(directory):\n",
    "        os.makedirs(directory, exist_ok=True)\n",
    "    try:\n",
    "        with open(filepath, \"wb\") as file:\n",
    "            file.write(content)\n",
    "    except IOError as e:\n",
    "        raise e\n",
    "\n",
    "\n",
    "save_file(\"data/test\", b\"hello world\")"
   ]
  },
  {
   "cell_type": "code",
   "execution_count": 38,
   "metadata": {},
   "outputs": [
    {
     "name": "stdout",
     "output_type": "stream",
     "text": [
      "data/test?path=11911612\n",
      "data/test path=11911612\n",
      "path=11911612\n",
      "{'path': '11911612'}\n",
      "query_dict is not empty\n",
      "True\n"
     ]
    }
   ],
   "source": [
    "request_path0 = \"data/test?path=11911612\"\n",
    "request_path1 = \"data/test\"\n",
    "request_path2 = \"data/test?name=hello\"\n",
    "\n",
    "request_path = request_path0\n",
    "\n",
    "print(request_path)\n",
    "\n",
    "url, query = request_path.split(\"?\") if \"?\" in request_path else (request_path, None)\n",
    "print(url, query)\n",
    "print(query)\n",
    "query_dict = {}\n",
    "for query_item in query.split(\"&\") if query else ['asdfa']:\n",
    "    if not \"=\" in query_item:\n",
    "        raise ValueError(f\"query_item {query_item} is not valid.\")\n",
    "    key, value = query_item.split(\"=\")\n",
    "    query_dict[key] = value\n",
    "print(query_dict)\n",
    "if query_dict:\n",
    "    print(\"query_dict is not empty\")\n",
    "else:\n",
    "    print(\"query_dict is empty\")\n",
    "    \n",
    "print('path' in query_dict)"
   ]
  },
  {
   "cell_type": "code",
   "execution_count": 52,
   "metadata": {},
   "outputs": [
    {
     "data": {
      "text/plain": [
       "'/data/sdf/aaa/a.txt'"
      ]
     },
     "execution_count": 52,
     "metadata": {},
     "output_type": "execute_result"
    }
   ],
   "source": [
    "import os\n",
    "filepath = os.path.join(\"/data/sdf/\", 'aaa/a.txt')\n",
    "filepath"
   ]
  },
  {
   "cell_type": "code",
   "execution_count": 50,
   "metadata": {},
   "outputs": [
    {
     "name": "stdout",
     "output_type": "stream",
     "text": [
      "folder1\\folder2\n"
     ]
    }
   ],
   "source": [
    "import os\n",
    "\n",
    "folder1 = \"folder1\"\n",
    "folder2 = \"folder2\"\n",
    "\n",
    "# 连接两个文件夹\n",
    "combined_path = os.path.join(folder1, folder2)\n",
    "\n",
    "print(combined_path)"
   ]
  },
  {
   "cell_type": "code",
   "execution_count": 57,
   "metadata": {},
   "outputs": [
    {
     "data": {
      "text/plain": [
       "True"
      ]
     },
     "execution_count": 57,
     "metadata": {},
     "output_type": "execute_result"
    }
   ],
   "source": [
    "folder1 = \"data/user1/folder1\"\n",
    "folder2 = \"data/user1/../user1/folder1\"\n",
    "\n",
    "os.path.samefile(folder1, folder2)"
   ]
  },
  {
   "cell_type": "code",
   "execution_count": 1,
   "metadata": {},
   "outputs": [
    {
     "name": "stdout",
     "output_type": "stream",
     "text": [
      "222\n"
     ]
    }
   ],
   "source": [
    "part = ''\n",
    "\n",
    "if \"Content-Disposition\" in part:\n",
    "    print(111)\n",
    "else:\n",
    "    print(222)"
   ]
  }
 ],
 "metadata": {
  "kernelspec": {
   "display_name": "cn",
   "language": "python",
   "name": "python3"
  },
  "language_info": {
   "codemirror_mode": {
    "name": "ipython",
    "version": 3
   },
   "file_extension": ".py",
   "mimetype": "text/x-python",
   "name": "python",
   "nbconvert_exporter": "python",
   "pygments_lexer": "ipython3",
   "version": "3.11.5"
  }
 },
 "nbformat": 4,
 "nbformat_minor": 2
}
