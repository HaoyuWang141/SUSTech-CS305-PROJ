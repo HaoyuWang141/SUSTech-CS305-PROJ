{
 "cells": [
  {
   "cell_type": "markdown",
   "metadata": {
    "collapsed": false
   },
   "source": [
    "In the project, the majority of tasks will undergo script testing, with only a few being reviewed by the TA. Be aware that this testing material is not final and cannot cover all testing scenarios. If you are caught cheating during testing, the whole group will receive a score of 0 for the project."
   ]
  },
  {
   "cell_type": "markdown",
   "metadata": {
    "collapsed": false
   },
   "source": [
    "The script checks using the requests library in Python. Before testing, ensure that the server has three users with the usernames \"client1\", \"client2\", and \"client3\", and the passwords \"123\". In the upcoming tests, if the Authorization field is needed, use \"client1\" and \"123\" as both the username and password."
   ]
  },
  {
   "cell_type": "code",
   "execution_count": 1,
   "metadata": {
    "ExecuteTime": {
     "end_time": "2023-11-20T12:25:19.957195500Z",
     "start_time": "2023-11-20T12:25:19.943241800Z"
    },
    "collapsed": false
   },
   "outputs": [],
   "source": [
    "import requests\n",
    "import base64"
   ]
  },
  {
   "cell_type": "markdown",
   "metadata": {
    "collapsed": false
   },
   "source": [
    "The initial check is the head request, a fundamental job of the server is to respond to the request. Use the \"headers\" parameter for logging into the server. Disregard this parameter if the server lacks the login feature."
   ]
  },
  {
   "cell_type": "code",
   "execution_count": 2,
   "metadata": {
    "ExecuteTime": {
     "end_time": "2023-11-20T12:25:22.005030700Z",
     "start_time": "2023-11-20T12:25:19.959189200Z"
    },
    "collapsed": false
   },
   "outputs": [
    {
     "name": "stdout",
     "output_type": "stream",
     "text": [
      "client1:123\n",
      "<Response [200]>\n"
     ]
    }
   ],
   "source": [
    "headers={\"Authorization\": \"Basic Y2xpZW50MToxMjM=\"}\n",
    "print(base64.b64decode(\"Y2xpZW50MToxMjM=\").decode())\n",
    "q=requests.head('http://localhost:8080/',headers=headers)\n",
    "print(q)\n"
   ]
  },
  {
   "cell_type": "markdown",
   "metadata": {
    "collapsed": false
   },
   "source": [
    "Test get request"
   ]
  },
  {
   "cell_type": "code",
   "execution_count": 3,
   "metadata": {
    "ExecuteTime": {
     "end_time": "2023-11-20T12:25:24.051724200Z",
     "start_time": "2023-11-20T12:25:22.005977700Z"
    },
    "collapsed": false
   },
   "outputs": [
    {
     "name": "stdout",
     "output_type": "stream",
     "text": [
      "<Response [200]>\n"
     ]
    }
   ],
   "source": [
    "headers={\"Authorization\": \"Basic Y2xpZW50MToxMjM=\"}\n",
    "q=requests.get('http://localhost:8080/',headers=headers)\n",
    "print(q)"
   ]
  },
  {
   "cell_type": "markdown",
   "metadata": {
    "collapsed": false
   },
   "source": [
    "Test post request"
   ]
  },
  {
   "cell_type": "code",
   "execution_count": 4,
   "metadata": {
    "ExecuteTime": {
     "end_time": "2023-11-20T12:25:26.094435700Z",
     "start_time": "2023-11-20T12:25:24.052720800Z"
    },
    "collapsed": false
   },
   "outputs": [
    {
     "name": "stdout",
     "output_type": "stream",
     "text": [
      "<Response [405]>\n"
     ]
    }
   ],
   "source": [
    "headers={\"Authorization\": \"Basic Y2xpZW50MToxMjM=\"}\n",
    "q=requests.post('http://localhost:8080/',headers=headers)\n",
    "print(q)"
   ]
  },
  {
   "cell_type": "markdown",
   "metadata": {
    "collapsed": false
   },
   "source": [
    "Next, we will provide test examples based on the chapters in the project documentation. Each test is accompanied by a output. We do not check exact string matches for your output, as long as you complete the corresponding task.\n",
    "\n"
   ]
  },
  {
   "cell_type": "code",
   "execution_count": 4,
   "metadata": {
    "ExecuteTime": {
     "end_time": "2023-11-20T12:25:26.125331900Z",
     "start_time": "2023-11-20T12:25:26.096429200Z"
    },
    "collapsed": false
   },
   "outputs": [
    {
     "name": "stdout",
     "output_type": "stream",
     "text": [
      "<Response [400]>\n",
      "<Response [400]>\n"
     ]
    }
   ],
   "source": [
    "#1.1\n",
    "headers={\"Authorization\": \"Basic Y2xpZW50MToxMjM=\"}\n",
    "session = requests.Session()\n",
    "session.headers.update({'Connection': 'keep-alive'})\n",
    "\n",
    "response1 = session.get('http://127.0.0.1:8080',headers=headers)\n",
    "response2 = session.get('http://127.0.0.1:8080',headers=headers)\n",
    "\n",
    "print(response1)\n",
    "print(response2)\n"
   ]
  },
  {
   "cell_type": "code",
   "execution_count": 6,
   "metadata": {
    "ExecuteTime": {
     "end_time": "2023-11-20T12:25:26.128321900Z",
     "start_time": "2023-11-20T12:25:26.120348800Z"
    },
    "collapsed": false
   },
   "outputs": [
    {
     "name": "stdout",
     "output_type": "stream",
     "text": [
      "<Response [400]>\n",
      "<Response [400]>\n"
     ]
    }
   ],
   "source": [
    "#1.2\n",
    "#1.1\n",
    "headers={\"Authorization\": \"Basic Y2xpZW50MToxMjM=\"}\n",
    "session1 = requests.Session()\n",
    "session1.headers.update({'Connection': 'keep-alive'})\n",
    "session2 = requests.Session()\n",
    "session2.headers.update({'Connection': 'keep-alive'})\n",
    "\n",
    "response1 = session1.get('http://127.0.0.1:8080',headers=headers)\n",
    "response2 = session2.get('http://127.0.0.1:8080',headers=headers)\n",
    "\n",
    "\n",
    "print(response1)\n",
    "print(response2)\n"
   ]
  },
  {
   "cell_type": "code",
   "execution_count": 7,
   "metadata": {
    "ExecuteTime": {
     "end_time": "2023-11-20T12:25:30.194185200Z",
     "start_time": "2023-11-20T12:25:26.126329100Z"
    },
    "collapsed": false
   },
   "outputs": [
    {
     "name": "stdout",
     "output_type": "stream",
     "text": [
      "<Response [200]>\n",
      "<Response [401]>\n"
     ]
    }
   ],
   "source": [
    "#1.3\n",
    "headers1={\"Authorization\": \"Basic Y2xpZW50MToxMjM=\"}\n",
    "headers2={}\n",
    "q=requests.head('http://localhost:8080/',headers=headers1)\n",
    "print(q)\n",
    "q=requests.head('http://localhost:8080/',headers=headers2)\n",
    "print(q)"
   ]
  },
  {
   "cell_type": "code",
   "execution_count": 17,
   "metadata": {
    "ExecuteTime": {
     "end_time": "2023-11-20T12:25:30.223088800Z",
     "start_time": "2023-11-20T12:25:30.194185200Z"
    },
    "collapsed": false
   },
   "outputs": [
    {
     "name": "stdout",
     "output_type": "stream",
     "text": [
      "<Response [200]>\n",
      "['asserts/', 'client1/', 'html/', 'test/', 'test.txt', 'test1.txt', 'user1/']\n"
     ]
    }
   ],
   "source": [
    "#2\n",
    "url1='http://127.0.0.1:8080/?SUSTech-HTTP=1'\n",
    "\n",
    "headers={\"Authorization\": \"Basic Y2xpZW50MToxMjM=\"}\n",
    "r=requests.get(url=url1, headers=headers)\n",
    "print(r)\n",
    "print(r.content.decode())"
   ]
  },
  {
   "cell_type": "code",
   "execution_count": 34,
   "metadata": {
    "ExecuteTime": {
     "end_time": "2023-11-20T12:25:30.227075200Z",
     "start_time": "2023-11-20T12:25:30.211128400Z"
    },
    "collapsed": false
   },
   "outputs": [
    {
     "name": "stdout",
     "output_type": "stream",
     "text": [
      "\n",
      "                        <html>\n",
      "                            <head><title>Index of /</title></head>\n",
      "                            <body>\n",
      "                                <h1>Index of /</h1>\n",
      "                                <ul>\n",
      "                                    <li><a href=\"/?SUSTech-HTTP=0\">/</a></li>\n",
      "<li><a href=\"/asserts/?SUSTech-HTTP=0\">asserts/</a></li>\n",
      "<li><a href=\"/client1/?SUSTech-HTTP=0\">client1/</a></li>\n",
      "<li><a href=\"/html/?SUSTech-HTTP=0\">html/</a></li>\n",
      "<li><a href=\"/test/?SUSTech-HTTP=0\">test/</a></li>\n",
      "<li><a href=\"/test.txt?SUSTech-HTTP=1\">test.txt</a></li>\n",
      "<li><a href=\"/test1.txt?SUSTech-HTTP=1\">test1.txt</a></li>\n",
      "<li><a href=\"/user1/?SUSTech-HTTP=0\">user1/</a></li>\n",
      "                                </ul>\n",
      "                            </body>\n",
      "                        </html>\n",
      "                    \n"
     ]
    }
   ],
   "source": [
    "#2\n",
    "url2='http://127.0.0.1:8080/?SUSTech-HTTP=0'\n",
    "\n",
    "headers={\"Authorization\": \"Basic Y2xpZW50MToxMjM=\"}\n",
    "r=requests.get(url=url2, headers=headers)\n",
    "print(r.content.decode())"
   ]
  },
  {
   "cell_type": "code",
   "execution_count": 10,
   "metadata": {
    "ExecuteTime": {
     "end_time": "2023-11-20T12:25:30.242025200Z",
     "start_time": "2023-11-20T12:25:30.227075200Z"
    },
    "collapsed": false
   },
   "outputs": [
    {
     "name": "stdout",
     "output_type": "stream",
     "text": [
      "hello world\n"
     ]
    }
   ],
   "source": [
    "#2\n",
    "headers={\"Authorization\": \"Basic Y2xpZW50MToxMjM=\"}\n",
    "r=requests.get(url='http://127.0.0.1:8080/test.txt', headers=headers)\n",
    "print(r.content.decode())"
   ]
  },
  {
   "cell_type": "code",
   "execution_count": 47,
   "metadata": {
    "ExecuteTime": {
     "end_time": "2023-11-20T12:25:30.259965300Z",
     "start_time": "2023-11-20T12:25:30.243021900Z"
    },
    "collapsed": false
   },
   "outputs": [
    {
     "name": "stdout",
     "output_type": "stream",
     "text": [
      "<Response [200]>\n",
      "<Response [401]>\n"
     ]
    }
   ],
   "source": [
    "#3.1\n",
    "files = {\"firstFile\": open('tmp/a.txt', \"rb\")}\n",
    "\n",
    "data={}\n",
    "headers={\"Authorization\": \"Basic Y2xpZW50MToxMjM=\"}\n",
    "r=requests.post(url='http://127.0.0.1:8080/upload?path=client1/',data=data,headers=headers, files=files)\n",
    "print(r)\n",
    "r=requests.post(url='http://127.0.0.1:8080/upload?path=client2/',data=data,headers=headers, files=files)\n",
    "print(r)"
   ]
  },
  {
   "cell_type": "code",
   "execution_count": 17,
   "metadata": {
    "ExecuteTime": {
     "end_time": "2023-11-20T12:25:30.271925300Z",
     "start_time": "2023-11-20T12:25:30.257971700Z"
    },
    "collapsed": false
   },
   "outputs": [
    {
     "name": "stdout",
     "output_type": "stream",
     "text": [
      "<Response [404]>\n"
     ]
    }
   ],
   "source": [
    "#3.2\n",
    "url='http://127.0.0.1:8080/delete?path=client1/a.py'\n",
    "\n",
    "headers={\"Authorization\": \"Basic Y2xpZW50MToxMjM=\"}\n",
    "r=requests.post(url=url, headers=headers)\n",
    "print(r)"
   ]
  },
  {
   "cell_type": "code",
   "execution_count": 13,
   "metadata": {
    "ExecuteTime": {
     "end_time": "2023-11-20T12:25:32.321265500Z",
     "start_time": "2023-11-20T12:25:30.273918600Z"
    },
    "collapsed": false
   },
   "outputs": [
    {
     "name": "stdout",
     "output_type": "stream",
     "text": [
      "640d47112197367fc9a809527ef62fc0\n",
      "<Response [200]>\n"
     ]
    }
   ],
   "source": [
    "#4\n",
    "url='http://127.0.0.1:8080/'\n",
    "\n",
    "headers={\"Authorization\": \"Basic Y2xpZW50MToxMjM=\"}\n",
    "r=requests.head(url=url, headers=headers)\n",
    "print(r.cookies.values()[0])\n",
    "headers={\"Cookie\":'session-id='+r.cookies.values()[0]}\n",
    "q=requests.head('http://localhost:8080/',headers=headers)\n",
    "print(q)\n"
   ]
  },
  {
   "cell_type": "code",
   "execution_count": 25,
   "metadata": {
    "ExecuteTime": {
     "end_time": "2023-11-20T12:25:32.340164500Z",
     "start_time": "2023-11-20T12:25:32.323259700Z"
    },
    "collapsed": false
   },
   "outputs": [
    {
     "name": "stdout",
     "output_type": "stream",
     "text": [
      "<Response [200]>\n"
     ]
    }
   ],
   "source": [
    "#5\n",
    "headers={\"Authorization\": \"Basic Y2xpZW50MToxMjM=\"}\n",
    "r=requests.get(url='http://127.0.0.1:8080/client1/a.txt?chunked=1', headers=headers)\n",
    "print(r)"
   ]
  },
  {
   "cell_type": "code",
   "execution_count": 6,
   "metadata": {
    "ExecuteTime": {
     "end_time": "2023-11-20T12:25:32.352124400Z",
     "start_time": "2023-11-20T12:25:32.338171Z"
    },
    "collapsed": false
   },
   "outputs": [
    {
     "name": "stdout",
     "output_type": "stream",
     "text": [
      "Set-Cookie session-id=cbf9340cc9a62bbb673b27368432bd9e19d3d0819ff8e7ce732622ced2e638e467029c4e53957206810a8ad06f8244c1de636328f96d32791e0b23f11438dd9e; Max-Age=3600; Path=/\n",
      "Server CS305-2023Fall-PROJ-MiniHttpServer HTTP/1.1\n",
      "Date Wed, 13 Dec 2023 20:11:07\n",
      "Content-Type text/plain\n",
      "Content-length 4\n",
      "Content-range bytes 0-3/135\n",
      "\n",
      "b'sadf'\n",
      "--------------------\n",
      "Set-Cookie session-id=cbf9340cc9a62bbb673b27368432bd9e19d3d0819ff8e7ce732622ced2e638e467029c4e53957206810a8ad06f8244c1de636328f96d32791e0b23f11438dd9e; Max-Age=3600; Path=/\n",
      "Server CS305-2023Fall-PROJ-MiniHttpServer HTTP/1.1\n",
      "Date Wed, 13 Dec 2023 20:11:07\n",
      "Content-Type multipart/byteranges; boundary=87e166afcda5130621841b534719e3cb\n",
      "Content-length 205\n",
      "\n",
      "b\"--87e166afcda5130621841b534719e3cb\\r\\nContent-type: text/plain\\r\\nContent-range: bytes 0-3/135\\r\\n\\r\\nb'sadf'\\r\\n--87e166afcda5130621841b534719e3cb\\r\\nContent-type: text/plain\\r\\nContent-range: bytes 7-9/135\\r\\n\\r\\nb'asd'\\r\\n\"\n",
      "--------------------\n",
      "Set-Cookie session-id=cbf9340cc9a62bbb673b27368432bd9e19d3d0819ff8e7ce732622ced2e638e467029c4e53957206810a8ad06f8244c1de636328f96d32791e0b23f11438dd9e; Max-Age=3600; Path=/\n",
      "Server CS305-2023Fall-PROJ-MiniHttpServer HTTP/1.1\n",
      "Date Wed, 13 Dec 2023 20:11:07\n",
      "Content-Type text/plain\n",
      "Content-length 10\n",
      "Content-range bytes 125-134/135\n",
      "\n",
      "b'g\\r\\n\\r\\nsadfa'\n"
     ]
    }
   ],
   "source": [
    "#Breakpoint Transmission\n",
    "url='http://127.0.0.1:8080/client1/a.txt'\n",
    "# url='http://127.0.0.1:8080/user1/3.jpg'\n",
    "\n",
    "data={}\n",
    "headers={\"Authorization\": \"Basic Y2xpZW50MToxMjM=\",\n",
    "         \"Range\": \"0-1,1-2,2-3\"}\n",
    "r=requests.get(url=url, data=data, headers=headers)\n",
    "for header in r.headers:\n",
    "    print(header, r.headers[header])\n",
    "print()\n",
    "print(r.content)\n",
    "\n",
    "print('-'*20)\n",
    "\n",
    "headers={\"Authorization\": \"Basic Y2xpZW50MToxMjM=\",\n",
    "         \"Range\": \"0-3,7-9\"}\n",
    "r=requests.get(url=url, data=data, headers=headers)\n",
    "for header in r.headers:\n",
    "    print(header, r.headers[header])\n",
    "print()\n",
    "print(r.content)\n",
    "\n",
    "print('-'*20)\n",
    "\n",
    "headers={\"Authorization\": \"Basic Y2xpZW50MToxMjM=\",\n",
    "         \"Range\": \"-1,-10\"}\n",
    "r=requests.get(url=url, data=data, headers=headers)\n",
    "for header in r.headers:\n",
    "    print(header, r.headers[header])\n",
    "print()\n",
    "print(r.content)\n"
   ]
  },
  {
   "cell_type": "code",
   "execution_count": 1,
   "metadata": {},
   "outputs": [
    {
     "name": "stdout",
     "output_type": "stream",
     "text": [
      "<cryptography.hazmat.backends.openssl.rsa._RSAPublicKey object at 0x0000027258879F10>\n",
      "OK\n",
      "--------------------\n",
      "HTTP/1.1 200 None\n",
      "Set-Cookie: session-id=ac97d9faf71aa4d65c93e7836b491f59110bcbfacd2eb7ce7118398ab8dbb22956672b0d8579c3b82900591d6b7c1b6d6a910252a3cad83484490db6050fdc85; Max-Age=3600; Path=/\n",
      "Server: CS305-2023Fall-PROJ-MiniHttpServer HTTP/1.1\n",
      "Date: Thu, 14 Dec 2023 12:50:38\n",
      "Content-type: text/html\n",
      "Content-Length: 816\n",
      "\n",
      "\n",
      "\n",
      "                        <html>\n",
      "                            <head><title>Index of /</title></head>\n",
      "                            <body>\n",
      "                                <h1>Index of /</h1>\n",
      "                                <ul>\n",
      "                                    <li><a href=\"/?SUSTech-HTTP=0\">/</a></li>\n",
      "<li><a href=\"/asserts/?SUSTech-HTTP=0\">asserts/</a></li>\n",
      "<li><a href=\"/client1/?SUSTech-HTTP=0\">client1/</a></li>\n",
      "<li><a href=\"/html/?SUSTech-HTTP=0\">html/</a></li>\n",
      "<li><a href=\"/test/?SUSTech-HTTP=0\">test/</a></li>\n",
      "<li><a href=\"/test.txt?SUSTech-HTTP=1\">test.txt</a></li>\n",
      "<li><a href=\"/test1.txt?SUSTech-HTTP=1\">test1.txt</a></li>\n",
      "<li><a href=\"/user1/?SUSTech-HTTP=0\">user1/</a></li>\n",
      "                                </ul>\n",
      "                            </body>\n",
      "                        </html>\n",
      "                    \n",
      "--------------------\n",
      "160\n",
      "HTTP/1.1 200 None\n",
      "Set-Cookie: session-id=ac97d9faf71aa4d65c93e7836b491f59110bcbfacd2eb7ce7118398ab8dbb22956672b0d8579c3b82900591d6b7c1b6d6a910252a3cad83484490db6050fdc85; Max-Age=3600; Path=/\n",
      "Server: CS305-2023Fall-PROJ-MiniHttpServer HTTP/1.1\n",
      "Date: Thu, 14 Dec 2023 12:50:38\n",
      "Content-Length: 0\n",
      "\n",
      "\n"
     ]
    }
   ],
   "source": [
    "import socket\n",
    "from cryptography.hazmat.primitives.serialization import load_der_public_key\n",
    "from cryptography.hazmat.backends import default_backend\n",
    "from cryptography.hazmat.primitives.ciphers import Cipher, algorithms, modes\n",
    "from cryptography.hazmat.backends import default_backend\n",
    "from cryptography.hazmat.primitives import padding as pd_aes\n",
    "import os\n",
    "from cryptography.hazmat.backends import default_backend\n",
    "from cryptography.hazmat.primitives import serialization\n",
    "from cryptography.hazmat.primitives.asymmetric import rsa\n",
    "from cryptography.hazmat.primitives import hashes\n",
    "from cryptography.hazmat.primitives.asymmetric import padding as pd_rsa\n",
    "\n",
    "import requests\n",
    "import base64\n",
    "\n",
    "s = socket.socket(socket.AF_INET, socket.SOCK_STREAM)\n",
    "s.connect(('localhost', 8080))\n",
    "s.sendall(b'ENCRYPTED')\n",
    "public_key_bytes = s.recv(1024)\n",
    "public_key = load_der_public_key(public_key_bytes, backend=default_backend())\n",
    "print(public_key)\n",
    "\n",
    "# AES 密钥和 IV 的设置\n",
    "key = os.urandom(32)  # AES-256 使用 32 字节密钥\n",
    "iv = os.urandom(16)   # IV 大小为 16 字节\n",
    "\n",
    "data = key + b\" \" + iv\n",
    "data = public_key.encrypt(data, pd_rsa.OAEP(mgf=pd_rsa.MGF1(algorithm=hashes.SHA256()), algorithm=hashes.SHA256(), label=None))\n",
    "s.sendall(data)\n",
    "\n",
    "msg = s.recv(1024).decode()\n",
    "print(msg)\n",
    "print('-'*20)\n",
    "\n",
    "content = b'abcdefg'\n",
    "\n",
    "cipher = Cipher(algorithms.AES(key), modes.CBC(iv), backend=default_backend())\n",
    "encryptor = cipher.encryptor()\n",
    "decryptor = cipher.decryptor()\n",
    "padder = pd_aes.PKCS7(128).padder()\n",
    "content = padder.update(content) + padder.finalize()\n",
    "content = (encryptor.update(content) + encryptor.finalize())\n",
    "s.sendall(b'GET / HTTP/1.1\\r\\nHost: 127.0.0.1:8080\\r\\nConnection: keep-alive\\r\\nAuthorization: Basic Y2xpZW50MToxMjM=\\r\\n\\r\\n'+content)\n",
    "\n",
    "msg = s.recv(2048)\n",
    "print(msg.decode())\n",
    "header = msg.split(b'\\r\\n')\n",
    "for header in header:\n",
    "    header = header.decode()\n",
    "    if 'Content-Length' in header:\n",
    "        content_length = int(header.split(':')[1])\n",
    "        break\n",
    "content = s.recv(content_length)\n",
    "content = decryptor.update(content) + decryptor.finalize()\n",
    "unpadder = pd_aes.PKCS7(128).unpadder()\n",
    "content = unpadder.update(content) + unpadder.finalize()\n",
    "print(content.decode())\n",
    "print('-'*20)\n",
    "\n",
    "\n",
    "content = b'--83f4a0c2a7cb010c509229f38bb36ab4\\r\\nContent-Disposition: form-data; name=\"firstFile\"; filename=\"a.txt\"\\r\\n\\r\\n\\r\\n--83f4a0c2a7cb010c509229f38bb36ab4--\\r\\n'\n",
    "padder = pd_aes.PKCS7(128).padder()\n",
    "content = padder.update(content) + padder.finalize()\n",
    "encryptor = cipher.encryptor()\n",
    "content = (encryptor.update(content) + encryptor.finalize())\n",
    "print(len(content))\n",
    "s.sendall(b'POST /upload?path=client1/ HTTP/1.1\\r\\nHost: 127.0.0.1:8080\\r\\nUser-Agent: python-requests/2.31.0\\r\\nAccept-Encoding: gzip, deflate\\r\\nAccept: */*\\r\\nConnection: keep-alive\\r\\nAuthorization: Basic Y2xpZW50MToxMjM=\\r\\nContent-Length: 160\\r\\nContent-Type: multipart/form-data; boundary=83f4a0c2a7cb010c509229f38bb36ab4\\r\\n\\r\\n'\n",
    "+content)\n",
    "msg = s.recv(2048).decode()\n",
    "print(msg)\n",
    "# data = s.recv(816)\n",
    "# decryptor = cipher.decryptor()\n",
    "# data = decryptor.update(data) + decryptor.finalize()\n",
    "# unpadder = pd_aes.PKCS7(128).unpadder()\n",
    "# data = unpadder.update(data) + unpadder.finalize()\n",
    "# print(data.decode())\n",
    "\n",
    "s.close()"
   ]
  }
 ],
 "metadata": {
  "kernelspec": {
   "display_name": "Python 3",
   "language": "python",
   "name": "python3"
  },
  "language_info": {
   "codemirror_mode": {
    "name": "ipython",
    "version": 3
   },
   "file_extension": ".py",
   "mimetype": "text/x-python",
   "name": "python",
   "nbconvert_exporter": "python",
   "pygments_lexer": "ipython3",
   "version": "3.11.5"
  }
 },
 "nbformat": 4,
 "nbformat_minor": 0
}
